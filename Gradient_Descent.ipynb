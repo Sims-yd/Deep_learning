{
  "nbformat": 4,
  "nbformat_minor": 0,
  "metadata": {
    "colab": {
      "provenance": [],
      "authorship_tag": "ABX9TyPLSQgMFV8ijQi/XLVcg7sc",
      "include_colab_link": true
    },
    "kernelspec": {
      "name": "python3",
      "display_name": "Python 3"
    },
    "language_info": {
      "name": "python"
    }
  },
  "cells": [
    {
      "cell_type": "markdown",
      "metadata": {
        "id": "view-in-github",
        "colab_type": "text"
      },
      "source": [
        "<a href=\"https://colab.research.google.com/github/Sims-yd/Deep_learning/blob/main/Gradient_Descent.ipynb\" target=\"_parent\"><img src=\"https://colab.research.google.com/assets/colab-badge.svg\" alt=\"Open In Colab\"/></a>"
      ]
    },
    {
      "cell_type": "code",
      "execution_count": 2,
      "metadata": {
        "id": "HA2OWvVyJAQz"
      },
      "outputs": [],
      "source": [
        "import numpy as np\n",
        "y_predicted=np.array([1,1,0,0,1])\n",
        "y_true=np.array([0.30,0.7,1,0,0.5])"
      ]
    },
    {
      "cell_type": "code",
      "source": [
        "def mae(y_true,y_predicted):\n",
        "  total_error=0\n",
        "  for yt,yp in zip(y_true,y_predicted):\n",
        "    total_error+=abs(yt-yp)\n",
        "  print(\"Total error:\",total_error)\n",
        "  mae=total_error/len(y_true)\n",
        "  print(\"MAE:\",mae)\n",
        "  return mae"
      ],
      "metadata": {
        "id": "Ukwvf14xJKiG"
      },
      "execution_count": 3,
      "outputs": []
    },
    {
      "cell_type": "code",
      "source": [
        "mae(y_true,y_predicted)"
      ],
      "metadata": {
        "colab": {
          "base_uri": "https://localhost:8080/"
        },
        "id": "NirGw9lqKZMv",
        "outputId": "788df44c-a014-42e3-e12e-d0c6f8eb5037"
      },
      "execution_count": 4,
      "outputs": [
        {
          "output_type": "stream",
          "name": "stdout",
          "text": [
            "Total error: 2.5\n",
            "MAE: 0.5\n"
          ]
        },
        {
          "output_type": "execute_result",
          "data": {
            "text/plain": [
              "np.float64(0.5)"
            ]
          },
          "metadata": {},
          "execution_count": 4
        }
      ]
    },
    {
      "cell_type": "code",
      "source": [
        "np.mean(np.abs(y_predicted-y_true))"
      ],
      "metadata": {
        "colab": {
          "base_uri": "https://localhost:8080/"
        },
        "id": "3glxQTqwKe7K",
        "outputId": "fa567509-e114-4248-ac74-b71760ae078f"
      },
      "execution_count": 6,
      "outputs": [
        {
          "output_type": "execute_result",
          "data": {
            "text/plain": [
              "np.float64(0.5)"
            ]
          },
          "metadata": {},
          "execution_count": 6
        }
      ]
    },
    {
      "cell_type": "code",
      "source": [
        "eplison=1e-15"
      ],
      "metadata": {
        "id": "KvgrRusIKkPN"
      },
      "execution_count": 7,
      "outputs": []
    },
    {
      "cell_type": "code",
      "source": [
        "y_predicted_new=[max(i,eplison) for i in y_predicted]\n",
        "y_predicted_new"
      ],
      "metadata": {
        "colab": {
          "base_uri": "https://localhost:8080/"
        },
        "id": "lYnermK4LRvR",
        "outputId": "4295fbbc-f6be-4e81-db82-6e22879003fa"
      },
      "execution_count": 8,
      "outputs": [
        {
          "output_type": "execute_result",
          "data": {
            "text/plain": [
              "[np.int64(1), np.int64(1), 1e-15, 1e-15, np.int64(1)]"
            ]
          },
          "metadata": {},
          "execution_count": 8
        }
      ]
    },
    {
      "cell_type": "code",
      "source": [
        "y_predicted_new= [min(i,1-eplison) for i in y_predicted_new]\n",
        "y_predicted_new"
      ],
      "metadata": {
        "colab": {
          "base_uri": "https://localhost:8080/"
        },
        "id": "MAG8DW-zLop4",
        "outputId": "6ee9d7a1-b53e-4303-82cb-1c6a7aac73fd"
      },
      "execution_count": 11,
      "outputs": [
        {
          "output_type": "execute_result",
          "data": {
            "text/plain": [
              "[0.999999999999999, 0.999999999999999, 1e-15, 1e-15, 0.999999999999999]"
            ]
          },
          "metadata": {},
          "execution_count": 11
        }
      ]
    },
    {
      "cell_type": "code",
      "source": [
        "y_predicted_new=np.array(y_predicted_new)\n",
        "np.log(y_predicted_new)"
      ],
      "metadata": {
        "colab": {
          "base_uri": "https://localhost:8080/"
        },
        "id": "08ZzC_ZYL1fq",
        "outputId": "5b11b345-bb23-44e7-dfd6-b489799da36e"
      },
      "execution_count": 12,
      "outputs": [
        {
          "output_type": "execute_result",
          "data": {
            "text/plain": [
              "array([-9.99200722e-16, -9.99200722e-16, -3.45387764e+01, -3.45387764e+01,\n",
              "       -9.99200722e-16])"
            ]
          },
          "metadata": {},
          "execution_count": 12
        }
      ]
    },
    {
      "cell_type": "code",
      "source": [
        " -np.mean(y_true*np.log(y_predicted_new)+(1-y_true)*np.log(1-y_predicted_new))"
      ],
      "metadata": {
        "colab": {
          "base_uri": "https://localhost:8080/"
        },
        "id": "gEvOdweMMRV1",
        "outputId": "b1e24dc8-ced2-43bc-a164-8ae906377230"
      },
      "execution_count": 13,
      "outputs": [
        {
          "output_type": "execute_result",
          "data": {
            "text/plain": [
              "np.float64(17.2696280766844)"
            ]
          },
          "metadata": {},
          "execution_count": 13
        }
      ]
    },
    {
      "cell_type": "code",
      "source": [],
      "metadata": {
        "id": "kgR8QGXAM-61"
      },
      "execution_count": null,
      "outputs": []
    }
  ]
}